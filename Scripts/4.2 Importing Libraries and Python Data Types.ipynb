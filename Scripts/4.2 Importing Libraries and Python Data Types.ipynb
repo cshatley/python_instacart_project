{
 "cells": [
  {
   "cell_type": "code",
   "execution_count": 1,
   "id": "35a7412d-3577-4abc-ba91-f7adb9667c3e",
   "metadata": {},
   "outputs": [],
   "source": [
    "# Import Libraries\n",
    "import pandas as pd\n",
    "import numpy as np\n",
    "import os"
   ]
  },
  {
   "cell_type": "code",
   "execution_count": 2,
   "id": "3433b452-e4d8-48b1-b824-8008f8fbb8c9",
   "metadata": {},
   "outputs": [],
   "source": [
    "# Python Data Types"
   ]
  },
  {
   "cell_type": "code",
   "execution_count": 3,
   "id": "b7f293b6-2ab9-4231-b74f-6f9944a622bf",
   "metadata": {},
   "outputs": [],
   "source": [
    "x = 50"
   ]
  },
  {
   "cell_type": "code",
   "execution_count": 4,
   "id": "855eaa65-39b0-426b-af02-0d5f72b47347",
   "metadata": {
    "tags": []
   },
   "outputs": [
    {
     "data": {
      "text/plain": [
       "100"
      ]
     },
     "execution_count": 4,
     "metadata": {},
     "output_type": "execute_result"
    }
   ],
   "source": [
    "50 + x"
   ]
  },
  {
   "cell_type": "code",
   "execution_count": 5,
   "id": "ed898dd8-74d6-4d3e-8fb2-cc9a509132af",
   "metadata": {
    "tags": []
   },
   "outputs": [
    {
     "data": {
      "text/plain": [
       "100"
      ]
     },
     "execution_count": 5,
     "metadata": {},
     "output_type": "execute_result"
    }
   ],
   "source": [
    "150 - x"
   ]
  },
  {
   "cell_type": "code",
   "execution_count": 6,
   "id": "ff5d26d3-8804-41b9-9c25-d0430e383430",
   "metadata": {},
   "outputs": [
    {
     "data": {
      "text/plain": [
       "100"
      ]
     },
     "execution_count": 6,
     "metadata": {},
     "output_type": "execute_result"
    }
   ],
   "source": [
    "2 * x"
   ]
  },
  {
   "cell_type": "code",
   "execution_count": 7,
   "id": "32d25e6c-1520-46cb-95d0-6f1f60875c6e",
   "metadata": {},
   "outputs": [],
   "source": [
    "a = 75.6"
   ]
  },
  {
   "cell_type": "code",
   "execution_count": 8,
   "id": "efe459cc-ff27-4052-adb0-7b95087be028",
   "metadata": {},
   "outputs": [],
   "source": [
    "b = 25.2"
   ]
  },
  {
   "cell_type": "code",
   "execution_count": 9,
   "id": "77f89618-f37a-441a-8469-d4c48702bacc",
   "metadata": {},
   "outputs": [
    {
     "data": {
      "text/plain": [
       "3.0"
      ]
     },
     "execution_count": 9,
     "metadata": {},
     "output_type": "execute_result"
    }
   ],
   "source": [
    "a/b"
   ]
  },
  {
   "cell_type": "code",
   "execution_count": 10,
   "id": "5d279680-3aab-4fd4-97ff-315ce7729f5a",
   "metadata": {
    "tags": []
   },
   "outputs": [],
   "source": [
    "y = 'Star'"
   ]
  },
  {
   "cell_type": "code",
   "execution_count": 11,
   "id": "024776a9-8003-4999-8d75-a3a1beee0ed1",
   "metadata": {},
   "outputs": [],
   "source": [
    "z = 'fish'"
   ]
  },
  {
   "cell_type": "code",
   "execution_count": 12,
   "id": "51b25076-bbf0-454f-a344-5a8c636cd07a",
   "metadata": {},
   "outputs": [
    {
     "data": {
      "text/plain": [
       "'Starfish'"
      ]
     },
     "execution_count": 12,
     "metadata": {},
     "output_type": "execute_result"
    }
   ],
   "source": [
    "y + z"
   ]
  },
  {
   "cell_type": "code",
   "execution_count": 13,
   "id": "d901be97-58e7-4399-a315-3e5662de4623",
   "metadata": {},
   "outputs": [],
   "source": [
    "c = 'Hi, '"
   ]
  },
  {
   "cell_type": "code",
   "execution_count": 14,
   "id": "6512585d-7fda-4c5a-846a-c1ae8329218c",
   "metadata": {},
   "outputs": [],
   "source": [
    "d = 'my name is Courtney and I like '"
   ]
  },
  {
   "cell_type": "code",
   "execution_count": 15,
   "id": "7179a9a9-e6fc-4077-8be1-719b354ca6b7",
   "metadata": {},
   "outputs": [],
   "source": [
    "e = 'cats.'"
   ]
  },
  {
   "cell_type": "code",
   "execution_count": 16,
   "id": "639bd07a-68f3-43f5-a5e3-12b25263b0b2",
   "metadata": {},
   "outputs": [
    {
     "data": {
      "text/plain": [
       "'Hi, my name is Courtney and I like cats.'"
      ]
     },
     "execution_count": 16,
     "metadata": {},
     "output_type": "execute_result"
    }
   ],
   "source": [
    "c + d + e"
   ]
  },
  {
   "cell_type": "code",
   "execution_count": 17,
   "id": "021689b5-4aee-488f-b931-7492c5de5cde",
   "metadata": {},
   "outputs": [],
   "source": [
    "m = 'I am currently suffering from '"
   ]
  },
  {
   "cell_type": "code",
   "execution_count": 18,
   "id": "e71c7f44-ab81-4408-8c7e-ef7c5702f425",
   "metadata": {},
   "outputs": [],
   "source": [
    "n = 'sleep deprivation.'"
   ]
  },
  {
   "cell_type": "code",
   "execution_count": 19,
   "id": "ef8ab33e-d89a-467f-ba19-3eebff4943bd",
   "metadata": {},
   "outputs": [
    {
     "data": {
      "text/plain": [
       "'I am currently suffering from sleep deprivation.'"
      ]
     },
     "execution_count": 19,
     "metadata": {},
     "output_type": "execute_result"
    }
   ],
   "source": [
    "m + n"
   ]
  },
  {
   "cell_type": "code",
   "execution_count": 21,
   "id": "83f6141b-8f11-41b7-a974-1b372a96976a",
   "metadata": {},
   "outputs": [],
   "source": [
    "j = 'Bells'"
   ]
  },
  {
   "cell_type": "code",
   "execution_count": 22,
   "id": "6aa24dc5-72d5-4d2b-b67f-8d28720adc61",
   "metadata": {},
   "outputs": [
    {
     "data": {
      "text/plain": [
       "'BellsBellsBellsBellsBellsBellsBellsBellsBellsBellsBellsBellsBellsBellsBellsBellsBellsBellsBellsBellsBellsBellsBellsBellsBellsBellsBellsBellsBellsBellsBellsBellsBellsBellsBellsBellsBellsBellsBellsBellsBellsBellsBellsBellsBellsBellsBellsBellsBellsBellsBellsBellsBellsBellsBellsBellsBellsBellsBellsBellsBellsBellsBellsBellsBellsBellsBellsBellsBellsBellsBellsBellsBellsBellsBellsBellsBellsBellsBellsBellsBellsBellsBellsBellsBellsBellsBellsBellsBellsBellsBellsBellsBellsBellsBellsBellsBellsBellsBellsBells'"
      ]
     },
     "execution_count": 22,
     "metadata": {},
     "output_type": "execute_result"
    }
   ],
   "source": [
    "j * 100"
   ]
  }
 ],
 "metadata": {
  "kernelspec": {
   "display_name": "Python 3 (ipykernel)",
   "language": "python",
   "name": "python3"
  },
  "language_info": {
   "codemirror_mode": {
    "name": "ipython",
    "version": 3
   },
   "file_extension": ".py",
   "mimetype": "text/x-python",
   "name": "python",
   "nbconvert_exporter": "python",
   "pygments_lexer": "ipython3",
   "version": "3.10.9"
  }
 },
 "nbformat": 4,
 "nbformat_minor": 5
}
