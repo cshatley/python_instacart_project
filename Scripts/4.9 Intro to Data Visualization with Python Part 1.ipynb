{
 "cells": [
  {
   "cell_type": "markdown",
   "id": "857ab3c7",
   "metadata": {},
   "source": [
    "# 4.9 Intro to Data Visualization with Python\n",
    "Part 1"
   ]
  },
  {
   "cell_type": "code",
   "execution_count": 1,
   "id": "e5b015d9",
   "metadata": {},
   "outputs": [],
   "source": [
    "# Import Libraries\n",
    "import pandas as pd\n",
    "import numpy as np\n",
    "import os\n",
    "import matplotlib.pyplot as plt\n",
    "import seaborn as sns\n",
    "import scipy"
   ]
  },
  {
   "cell_type": "code",
   "execution_count": 2,
   "id": "3a2e2b33",
   "metadata": {},
   "outputs": [],
   "source": [
    "# Import Dataframes\n",
    "path = r'C:\\Users\\cshat\\06-2023 Instacart Basket Analysis'"
   ]
  },
  {
   "cell_type": "code",
   "execution_count": 3,
   "id": "95d6ddc4",
   "metadata": {},
   "outputs": [],
   "source": [
    "df_customers = pd.read_csv(os.path.join(path, '02 Data', 'Original Data', 'customers.csv'))"
   ]
  },
  {
   "cell_type": "code",
   "execution_count": 4,
   "id": "80eda505",
   "metadata": {},
   "outputs": [],
   "source": [
    "df_ords_prods_merged = pd.read_pickle(os.path.join(path, '02 Data', 'Prepared Data', 'orders_products_merged_updated_2.pkl'))"
   ]
  },
  {
   "cell_type": "code",
   "execution_count": 5,
   "id": "7c7d02ad",
   "metadata": {},
   "outputs": [
    {
     "data": {
      "text/html": [
       "<div>\n",
       "<style scoped>\n",
       "    .dataframe tbody tr th:only-of-type {\n",
       "        vertical-align: middle;\n",
       "    }\n",
       "\n",
       "    .dataframe tbody tr th {\n",
       "        vertical-align: top;\n",
       "    }\n",
       "\n",
       "    .dataframe thead th {\n",
       "        text-align: right;\n",
       "    }\n",
       "</style>\n",
       "<table border=\"1\" class=\"dataframe\">\n",
       "  <thead>\n",
       "    <tr style=\"text-align: right;\">\n",
       "      <th></th>\n",
       "      <th>user_id</th>\n",
       "      <th>First Name</th>\n",
       "      <th>Surnam</th>\n",
       "      <th>Gender</th>\n",
       "      <th>STATE</th>\n",
       "      <th>Age</th>\n",
       "      <th>date_joined</th>\n",
       "      <th>n_dependants</th>\n",
       "      <th>fam_status</th>\n",
       "      <th>income</th>\n",
       "    </tr>\n",
       "  </thead>\n",
       "  <tbody>\n",
       "    <tr>\n",
       "      <th>0</th>\n",
       "      <td>26711</td>\n",
       "      <td>Deborah</td>\n",
       "      <td>Esquivel</td>\n",
       "      <td>Female</td>\n",
       "      <td>Missouri</td>\n",
       "      <td>48</td>\n",
       "      <td>1/1/2017</td>\n",
       "      <td>3</td>\n",
       "      <td>married</td>\n",
       "      <td>165665</td>\n",
       "    </tr>\n",
       "    <tr>\n",
       "      <th>1</th>\n",
       "      <td>33890</td>\n",
       "      <td>Patricia</td>\n",
       "      <td>Hart</td>\n",
       "      <td>Female</td>\n",
       "      <td>New Mexico</td>\n",
       "      <td>36</td>\n",
       "      <td>1/1/2017</td>\n",
       "      <td>0</td>\n",
       "      <td>single</td>\n",
       "      <td>59285</td>\n",
       "    </tr>\n",
       "    <tr>\n",
       "      <th>2</th>\n",
       "      <td>65803</td>\n",
       "      <td>Kenneth</td>\n",
       "      <td>Farley</td>\n",
       "      <td>Male</td>\n",
       "      <td>Idaho</td>\n",
       "      <td>35</td>\n",
       "      <td>1/1/2017</td>\n",
       "      <td>2</td>\n",
       "      <td>married</td>\n",
       "      <td>99568</td>\n",
       "    </tr>\n",
       "    <tr>\n",
       "      <th>3</th>\n",
       "      <td>125935</td>\n",
       "      <td>Michelle</td>\n",
       "      <td>Hicks</td>\n",
       "      <td>Female</td>\n",
       "      <td>Iowa</td>\n",
       "      <td>40</td>\n",
       "      <td>1/1/2017</td>\n",
       "      <td>0</td>\n",
       "      <td>single</td>\n",
       "      <td>42049</td>\n",
       "    </tr>\n",
       "    <tr>\n",
       "      <th>4</th>\n",
       "      <td>130797</td>\n",
       "      <td>Ann</td>\n",
       "      <td>Gilmore</td>\n",
       "      <td>Female</td>\n",
       "      <td>Maryland</td>\n",
       "      <td>26</td>\n",
       "      <td>1/1/2017</td>\n",
       "      <td>1</td>\n",
       "      <td>married</td>\n",
       "      <td>40374</td>\n",
       "    </tr>\n",
       "  </tbody>\n",
       "</table>\n",
       "</div>"
      ],
      "text/plain": [
       "   user_id First Name    Surnam  Gender       STATE  Age date_joined  \\\n",
       "0    26711    Deborah  Esquivel  Female    Missouri   48    1/1/2017   \n",
       "1    33890   Patricia      Hart  Female  New Mexico   36    1/1/2017   \n",
       "2    65803    Kenneth    Farley    Male       Idaho   35    1/1/2017   \n",
       "3   125935   Michelle     Hicks  Female        Iowa   40    1/1/2017   \n",
       "4   130797        Ann   Gilmore  Female    Maryland   26    1/1/2017   \n",
       "\n",
       "   n_dependants fam_status  income  \n",
       "0             3    married  165665  \n",
       "1             0     single   59285  \n",
       "2             2    married   99568  \n",
       "3             0     single   42049  \n",
       "4             1    married   40374  "
      ]
     },
     "execution_count": 5,
     "metadata": {},
     "output_type": "execute_result"
    }
   ],
   "source": [
    "# Step 4 \n",
    "# Assess Customer Dataset\n",
    "df_customers.head()"
   ]
  },
  {
   "cell_type": "code",
   "execution_count": 6,
   "id": "fae2af75",
   "metadata": {
    "scrolled": true
   },
   "outputs": [
    {
     "data": {
      "text/plain": [
       "(206209, 10)"
      ]
     },
     "execution_count": 6,
     "metadata": {},
     "output_type": "execute_result"
    }
   ],
   "source": [
    "df_customers.shape"
   ]
  },
  {
   "cell_type": "code",
   "execution_count": 7,
   "id": "44c22974",
   "metadata": {},
   "outputs": [
    {
     "data": {
      "text/html": [
       "<div>\n",
       "<style scoped>\n",
       "    .dataframe tbody tr th:only-of-type {\n",
       "        vertical-align: middle;\n",
       "    }\n",
       "\n",
       "    .dataframe tbody tr th {\n",
       "        vertical-align: top;\n",
       "    }\n",
       "\n",
       "    .dataframe thead th {\n",
       "        text-align: right;\n",
       "    }\n",
       "</style>\n",
       "<table border=\"1\" class=\"dataframe\">\n",
       "  <thead>\n",
       "    <tr style=\"text-align: right;\">\n",
       "      <th></th>\n",
       "      <th>user_id</th>\n",
       "      <th>Age</th>\n",
       "      <th>n_dependants</th>\n",
       "      <th>income</th>\n",
       "    </tr>\n",
       "  </thead>\n",
       "  <tbody>\n",
       "    <tr>\n",
       "      <th>count</th>\n",
       "      <td>206209.000000</td>\n",
       "      <td>206209.000000</td>\n",
       "      <td>206209.000000</td>\n",
       "      <td>206209.000000</td>\n",
       "    </tr>\n",
       "    <tr>\n",
       "      <th>mean</th>\n",
       "      <td>103105.000000</td>\n",
       "      <td>49.501646</td>\n",
       "      <td>1.499823</td>\n",
       "      <td>94632.852548</td>\n",
       "    </tr>\n",
       "    <tr>\n",
       "      <th>std</th>\n",
       "      <td>59527.555167</td>\n",
       "      <td>18.480962</td>\n",
       "      <td>1.118433</td>\n",
       "      <td>42473.786988</td>\n",
       "    </tr>\n",
       "    <tr>\n",
       "      <th>min</th>\n",
       "      <td>1.000000</td>\n",
       "      <td>18.000000</td>\n",
       "      <td>0.000000</td>\n",
       "      <td>25903.000000</td>\n",
       "    </tr>\n",
       "    <tr>\n",
       "      <th>25%</th>\n",
       "      <td>51553.000000</td>\n",
       "      <td>33.000000</td>\n",
       "      <td>0.000000</td>\n",
       "      <td>59874.000000</td>\n",
       "    </tr>\n",
       "    <tr>\n",
       "      <th>50%</th>\n",
       "      <td>103105.000000</td>\n",
       "      <td>49.000000</td>\n",
       "      <td>1.000000</td>\n",
       "      <td>93547.000000</td>\n",
       "    </tr>\n",
       "    <tr>\n",
       "      <th>75%</th>\n",
       "      <td>154657.000000</td>\n",
       "      <td>66.000000</td>\n",
       "      <td>3.000000</td>\n",
       "      <td>124244.000000</td>\n",
       "    </tr>\n",
       "    <tr>\n",
       "      <th>max</th>\n",
       "      <td>206209.000000</td>\n",
       "      <td>81.000000</td>\n",
       "      <td>3.000000</td>\n",
       "      <td>593901.000000</td>\n",
       "    </tr>\n",
       "  </tbody>\n",
       "</table>\n",
       "</div>"
      ],
      "text/plain": [
       "             user_id            Age   n_dependants         income\n",
       "count  206209.000000  206209.000000  206209.000000  206209.000000\n",
       "mean   103105.000000      49.501646       1.499823   94632.852548\n",
       "std     59527.555167      18.480962       1.118433   42473.786988\n",
       "min         1.000000      18.000000       0.000000   25903.000000\n",
       "25%     51553.000000      33.000000       0.000000   59874.000000\n",
       "50%    103105.000000      49.000000       1.000000   93547.000000\n",
       "75%    154657.000000      66.000000       3.000000  124244.000000\n",
       "max    206209.000000      81.000000       3.000000  593901.000000"
      ]
     },
     "execution_count": 7,
     "metadata": {},
     "output_type": "execute_result"
    }
   ],
   "source": [
    "df_customers.describe()"
   ]
  },
  {
   "cell_type": "code",
   "execution_count": 8,
   "id": "27628947",
   "metadata": {},
   "outputs": [
    {
     "name": "stdout",
     "output_type": "stream",
     "text": [
      "<class 'pandas.core.frame.DataFrame'>\n",
      "RangeIndex: 206209 entries, 0 to 206208\n",
      "Data columns (total 10 columns):\n",
      " #   Column        Non-Null Count   Dtype \n",
      "---  ------        --------------   ----- \n",
      " 0   user_id       206209 non-null  int64 \n",
      " 1   First Name    194950 non-null  object\n",
      " 2   Surnam        206209 non-null  object\n",
      " 3   Gender        206209 non-null  object\n",
      " 4   STATE         206209 non-null  object\n",
      " 5   Age           206209 non-null  int64 \n",
      " 6   date_joined   206209 non-null  object\n",
      " 7   n_dependants  206209 non-null  int64 \n",
      " 8   fam_status    206209 non-null  object\n",
      " 9   income        206209 non-null  int64 \n",
      "dtypes: int64(4), object(6)\n",
      "memory usage: 15.7+ MB\n"
     ]
    }
   ],
   "source": [
    "df_customers.info()"
   ]
  },
  {
   "cell_type": "code",
   "execution_count": 9,
   "id": "13f8bc10",
   "metadata": {},
   "outputs": [],
   "source": [
    "# Rename Columns\n",
    "df_customers.rename(columns = {'First Name' : 'first_name'}, inplace = True)"
   ]
  },
  {
   "cell_type": "code",
   "execution_count": 10,
   "id": "a4d0b73b",
   "metadata": {
    "scrolled": true
   },
   "outputs": [],
   "source": [
    "df_customers.rename(columns = {'Surnam' : 'last_name'}, inplace = True)"
   ]
  },
  {
   "cell_type": "code",
   "execution_count": 11,
   "id": "46355331",
   "metadata": {},
   "outputs": [],
   "source": [
    "df_customers.rename(columns = {'Gender' : 'gender'}, inplace = True)"
   ]
  },
  {
   "cell_type": "code",
   "execution_count": 12,
   "id": "c0eddd35",
   "metadata": {},
   "outputs": [],
   "source": [
    "df_customers.rename(columns = {'STATE' : 'state'}, inplace = True)"
   ]
  },
  {
   "cell_type": "code",
   "execution_count": 13,
   "id": "8ad8f8cd",
   "metadata": {},
   "outputs": [],
   "source": [
    "df_customers.rename(columns = {'Age' : 'age'}, inplace = True)"
   ]
  },
  {
   "cell_type": "code",
   "execution_count": 14,
   "id": "e2f70ad5",
   "metadata": {},
   "outputs": [],
   "source": [
    "df_customers.rename(columns = {'n_dependants' : 'dependants'}, inplace = True)"
   ]
  },
  {
   "cell_type": "code",
   "execution_count": 15,
   "id": "745ac017",
   "metadata": {},
   "outputs": [],
   "source": [
    "df_customers.rename(columns = {'fam_status' : 'marital_status'}, inplace = True)"
   ]
  },
  {
   "cell_type": "code",
   "execution_count": 16,
   "id": "c96bb502",
   "metadata": {},
   "outputs": [
    {
     "data": {
      "text/html": [
       "<div>\n",
       "<style scoped>\n",
       "    .dataframe tbody tr th:only-of-type {\n",
       "        vertical-align: middle;\n",
       "    }\n",
       "\n",
       "    .dataframe tbody tr th {\n",
       "        vertical-align: top;\n",
       "    }\n",
       "\n",
       "    .dataframe thead th {\n",
       "        text-align: right;\n",
       "    }\n",
       "</style>\n",
       "<table border=\"1\" class=\"dataframe\">\n",
       "  <thead>\n",
       "    <tr style=\"text-align: right;\">\n",
       "      <th></th>\n",
       "      <th>user_id</th>\n",
       "      <th>first_name</th>\n",
       "      <th>last_name</th>\n",
       "      <th>gender</th>\n",
       "      <th>state</th>\n",
       "      <th>age</th>\n",
       "      <th>date_joined</th>\n",
       "      <th>dependants</th>\n",
       "      <th>marital_status</th>\n",
       "      <th>income</th>\n",
       "    </tr>\n",
       "  </thead>\n",
       "  <tbody>\n",
       "    <tr>\n",
       "      <th>0</th>\n",
       "      <td>26711</td>\n",
       "      <td>Deborah</td>\n",
       "      <td>Esquivel</td>\n",
       "      <td>Female</td>\n",
       "      <td>Missouri</td>\n",
       "      <td>48</td>\n",
       "      <td>1/1/2017</td>\n",
       "      <td>3</td>\n",
       "      <td>married</td>\n",
       "      <td>165665</td>\n",
       "    </tr>\n",
       "    <tr>\n",
       "      <th>1</th>\n",
       "      <td>33890</td>\n",
       "      <td>Patricia</td>\n",
       "      <td>Hart</td>\n",
       "      <td>Female</td>\n",
       "      <td>New Mexico</td>\n",
       "      <td>36</td>\n",
       "      <td>1/1/2017</td>\n",
       "      <td>0</td>\n",
       "      <td>single</td>\n",
       "      <td>59285</td>\n",
       "    </tr>\n",
       "    <tr>\n",
       "      <th>2</th>\n",
       "      <td>65803</td>\n",
       "      <td>Kenneth</td>\n",
       "      <td>Farley</td>\n",
       "      <td>Male</td>\n",
       "      <td>Idaho</td>\n",
       "      <td>35</td>\n",
       "      <td>1/1/2017</td>\n",
       "      <td>2</td>\n",
       "      <td>married</td>\n",
       "      <td>99568</td>\n",
       "    </tr>\n",
       "    <tr>\n",
       "      <th>3</th>\n",
       "      <td>125935</td>\n",
       "      <td>Michelle</td>\n",
       "      <td>Hicks</td>\n",
       "      <td>Female</td>\n",
       "      <td>Iowa</td>\n",
       "      <td>40</td>\n",
       "      <td>1/1/2017</td>\n",
       "      <td>0</td>\n",
       "      <td>single</td>\n",
       "      <td>42049</td>\n",
       "    </tr>\n",
       "    <tr>\n",
       "      <th>4</th>\n",
       "      <td>130797</td>\n",
       "      <td>Ann</td>\n",
       "      <td>Gilmore</td>\n",
       "      <td>Female</td>\n",
       "      <td>Maryland</td>\n",
       "      <td>26</td>\n",
       "      <td>1/1/2017</td>\n",
       "      <td>1</td>\n",
       "      <td>married</td>\n",
       "      <td>40374</td>\n",
       "    </tr>\n",
       "  </tbody>\n",
       "</table>\n",
       "</div>"
      ],
      "text/plain": [
       "   user_id first_name last_name  gender       state  age date_joined  \\\n",
       "0    26711    Deborah  Esquivel  Female    Missouri   48    1/1/2017   \n",
       "1    33890   Patricia      Hart  Female  New Mexico   36    1/1/2017   \n",
       "2    65803    Kenneth    Farley    Male       Idaho   35    1/1/2017   \n",
       "3   125935   Michelle     Hicks  Female        Iowa   40    1/1/2017   \n",
       "4   130797        Ann   Gilmore  Female    Maryland   26    1/1/2017   \n",
       "\n",
       "   dependants marital_status  income  \n",
       "0           3        married  165665  \n",
       "1           0         single   59285  \n",
       "2           2        married   99568  \n",
       "3           0         single   42049  \n",
       "4           1        married   40374  "
      ]
     },
     "execution_count": 16,
     "metadata": {},
     "output_type": "execute_result"
    }
   ],
   "source": [
    "df_customers.head()"
   ]
  },
  {
   "cell_type": "code",
   "execution_count": 17,
   "id": "a4654e55",
   "metadata": {},
   "outputs": [
    {
     "data": {
      "text/plain": [
       "user_id               0\n",
       "first_name        11259\n",
       "last_name             0\n",
       "gender                0\n",
       "state                 0\n",
       "age                   0\n",
       "date_joined           0\n",
       "dependants            0\n",
       "marital_status        0\n",
       "income                0\n",
       "dtype: int64"
      ]
     },
     "execution_count": 17,
     "metadata": {},
     "output_type": "execute_result"
    }
   ],
   "source": [
    "# Check for Null/Errors\n",
    "df_customers.isnull().sum()"
   ]
  },
  {
   "cell_type": "code",
   "execution_count": 18,
   "id": "622ff5ba",
   "metadata": {
    "scrolled": true
   },
   "outputs": [
    {
     "data": {
      "text/plain": [
       "26711     1\n",
       "67322     1\n",
       "173044    1\n",
       "61044     1\n",
       "98344     1\n",
       "         ..\n",
       "146847    1\n",
       "154991    1\n",
       "172193    1\n",
       "184326    1\n",
       "80148     1\n",
       "Name: user_id, Length: 206209, dtype: int64"
      ]
     },
     "execution_count": 18,
     "metadata": {},
     "output_type": "execute_result"
    }
   ],
   "source": [
    "df_customers['user_id'].value_counts(dropna = False)"
   ]
  },
  {
   "cell_type": "code",
   "execution_count": 19,
   "id": "6404fc16",
   "metadata": {
    "scrolled": true
   },
   "outputs": [
    {
     "data": {
      "text/plain": [
       "NaN        11259\n",
       "Marilyn     2213\n",
       "Barbara     2154\n",
       "Todd        2113\n",
       "Jeremy      2104\n",
       "           ...  \n",
       "Merry        197\n",
       "Eugene       197\n",
       "Garry        191\n",
       "Ned          186\n",
       "David        186\n",
       "Name: first_name, Length: 208, dtype: int64"
      ]
     },
     "execution_count": 19,
     "metadata": {},
     "output_type": "execute_result"
    }
   ],
   "source": [
    "df_customers['first_name'].value_counts(dropna = False)"
   ]
  },
  {
   "cell_type": "markdown",
   "id": "e57fe613",
   "metadata": {},
   "source": [
    "There are a lot of null first names but this cannot be fixed and as long as they have a unique user_id, the analysis will not be affected."
   ]
  },
  {
   "cell_type": "code",
   "execution_count": 20,
   "id": "07cf4220",
   "metadata": {},
   "outputs": [
    {
     "data": {
      "text/plain": [
       "Hamilton      252\n",
       "Randall       248\n",
       "Lamb          243\n",
       "Pennington    243\n",
       "Barnett       242\n",
       "             ... \n",
       "Poole         172\n",
       "Bauer         166\n",
       "Pearson       164\n",
       "Payne         163\n",
       "Jordan        162\n",
       "Name: last_name, Length: 1000, dtype: int64"
      ]
     },
     "execution_count": 20,
     "metadata": {},
     "output_type": "execute_result"
    }
   ],
   "source": [
    "df_customers['last_name'].value_counts(dropna = False)"
   ]
  },
  {
   "cell_type": "code",
   "execution_count": 21,
   "id": "966b2223",
   "metadata": {},
   "outputs": [
    {
     "data": {
      "text/plain": [
       "Male      104067\n",
       "Female    102142\n",
       "Name: gender, dtype: int64"
      ]
     },
     "execution_count": 21,
     "metadata": {},
     "output_type": "execute_result"
    }
   ],
   "source": [
    "df_customers['gender'].value_counts(dropna = False)"
   ]
  },
  {
   "cell_type": "code",
   "execution_count": 22,
   "id": "8f7100ce",
   "metadata": {},
   "outputs": [
    {
     "data": {
      "text/plain": [
       "Florida                 4044\n",
       "Colorado                4044\n",
       "Illinois                4044\n",
       "Alabama                 4044\n",
       "District of Columbia    4044\n",
       "Hawaii                  4044\n",
       "Arizona                 4044\n",
       "Connecticut             4044\n",
       "California              4044\n",
       "Indiana                 4044\n",
       "Arkansas                4044\n",
       "Alaska                  4044\n",
       "Delaware                4044\n",
       "Iowa                    4044\n",
       "Idaho                   4044\n",
       "Georgia                 4044\n",
       "Wyoming                 4043\n",
       "Mississippi             4043\n",
       "Oklahoma                4043\n",
       "Utah                    4043\n",
       "New Hampshire           4043\n",
       "Kentucky                4043\n",
       "Maryland                4043\n",
       "Rhode Island            4043\n",
       "Massachusetts           4043\n",
       "Michigan                4043\n",
       "New Jersey              4043\n",
       "Kansas                  4043\n",
       "South Dakota            4043\n",
       "Minnesota               4043\n",
       "Tennessee               4043\n",
       "New York                4043\n",
       "Washington              4043\n",
       "Louisiana               4043\n",
       "Montana                 4043\n",
       "North Dakota            4043\n",
       "Wisconsin               4043\n",
       "Nebraska                4043\n",
       "Vermont                 4043\n",
       "Nevada                  4043\n",
       "Maine                   4043\n",
       "North Carolina          4043\n",
       "West Virginia           4043\n",
       "Virginia                4043\n",
       "Oregon                  4043\n",
       "New Mexico              4043\n",
       "Texas                   4043\n",
       "Pennsylvania            4043\n",
       "Ohio                    4043\n",
       "South Carolina          4043\n",
       "Missouri                4043\n",
       "Name: state, dtype: int64"
      ]
     },
     "execution_count": 22,
     "metadata": {},
     "output_type": "execute_result"
    }
   ],
   "source": [
    "df_customers['state'].value_counts(dropna = False)"
   ]
  },
  {
   "cell_type": "code",
   "execution_count": 23,
   "id": "07a5ac68",
   "metadata": {},
   "outputs": [
    {
     "data": {
      "text/plain": [
       "19    3329\n",
       "55    3317\n",
       "51    3317\n",
       "56    3306\n",
       "32    3305\n",
       "      ... \n",
       "65    3145\n",
       "25    3127\n",
       "66    3114\n",
       "50    3102\n",
       "36    3101\n",
       "Name: age, Length: 64, dtype: int64"
      ]
     },
     "execution_count": 23,
     "metadata": {},
     "output_type": "execute_result"
    }
   ],
   "source": [
    "df_customers['age'].value_counts(dropna = False)"
   ]
  },
  {
   "cell_type": "code",
   "execution_count": 24,
   "id": "c16eb0f2",
   "metadata": {},
   "outputs": [
    {
     "data": {
      "text/plain": [
       "0    51602\n",
       "3    51594\n",
       "1    51531\n",
       "2    51482\n",
       "Name: dependants, dtype: int64"
      ]
     },
     "execution_count": 24,
     "metadata": {},
     "output_type": "execute_result"
    }
   ],
   "source": [
    "df_customers['dependants'].value_counts(dropna = False)"
   ]
  },
  {
   "cell_type": "code",
   "execution_count": 25,
   "id": "1959b737",
   "metadata": {
    "scrolled": true
   },
   "outputs": [
    {
     "data": {
      "text/plain": [
       "married                             144906\n",
       "single                               33962\n",
       "divorced/widowed                     17640\n",
       "living with parents and siblings      9701\n",
       "Name: marital_status, dtype: int64"
      ]
     },
     "execution_count": 25,
     "metadata": {},
     "output_type": "execute_result"
    }
   ],
   "source": [
    "df_customers['marital_status'].value_counts(dropna = False)"
   ]
  },
  {
   "cell_type": "code",
   "execution_count": 26,
   "id": "05e05c15",
   "metadata": {},
   "outputs": [
    {
     "data": {
      "text/plain": [
       "57192     10\n",
       "95891     10\n",
       "95710     10\n",
       "97532      9\n",
       "98675      9\n",
       "          ..\n",
       "73141      1\n",
       "71524      1\n",
       "74408      1\n",
       "44780      1\n",
       "148828     1\n",
       "Name: income, Length: 108012, dtype: int64"
      ]
     },
     "execution_count": 26,
     "metadata": {},
     "output_type": "execute_result"
    }
   ],
   "source": [
    "df_customers['income'].value_counts(dropna = False)"
   ]
  },
  {
   "cell_type": "code",
   "execution_count": 27,
   "id": "4fc766f4",
   "metadata": {},
   "outputs": [
    {
     "name": "stdout",
     "output_type": "stream",
     "text": [
      "first_name\n"
     ]
    }
   ],
   "source": [
    "# Step 5\n",
    "for col in df_customers.columns.tolist():\n",
    "    weird = (df_customers[[col]].applymap(type) != df_customers[[col]].iloc[0].apply(type)).any(axis = 1)\n",
    "    if len (df_customers[weird]) > 0:\n",
    "        print(col)"
   ]
  },
  {
   "cell_type": "markdown",
   "id": "4e1df240",
   "metadata": {},
   "source": [
    "This result is due to the null values found in the previous step."
   ]
  },
  {
   "cell_type": "code",
   "execution_count": 28,
   "id": "93090172",
   "metadata": {
    "scrolled": true
   },
   "outputs": [],
   "source": [
    "df_customers['first_name'] = df_customers['first_name'].astype('str')"
   ]
  },
  {
   "cell_type": "code",
   "execution_count": 29,
   "id": "ce8069dc",
   "metadata": {},
   "outputs": [],
   "source": [
    "for col in df_customers.columns.tolist():\n",
    "    weird = (df_customers[[col]].applymap(type) != df_customers[[col]].iloc[0].apply(type)).any(axis = 1)\n",
    "    if len (df_customers[weird]) > 0:\n",
    "        print(col)"
   ]
  },
  {
   "cell_type": "code",
   "execution_count": 30,
   "id": "63e48fa4",
   "metadata": {
    "scrolled": true
   },
   "outputs": [
    {
     "data": {
      "text/plain": [
       "user_id           0\n",
       "first_name        0\n",
       "last_name         0\n",
       "gender            0\n",
       "state             0\n",
       "age               0\n",
       "date_joined       0\n",
       "dependants        0\n",
       "marital_status    0\n",
       "income            0\n",
       "dtype: int64"
      ]
     },
     "execution_count": 30,
     "metadata": {},
     "output_type": "execute_result"
    }
   ],
   "source": [
    "df_customers.isnull().sum()"
   ]
  },
  {
   "cell_type": "code",
   "execution_count": 31,
   "id": "08fcd9b3",
   "metadata": {
    "scrolled": false
   },
   "outputs": [
    {
     "name": "stdout",
     "output_type": "stream",
     "text": [
      "<class 'pandas.core.frame.DataFrame'>\n",
      "RangeIndex: 206209 entries, 0 to 206208\n",
      "Data columns (total 10 columns):\n",
      " #   Column          Non-Null Count   Dtype \n",
      "---  ------          --------------   ----- \n",
      " 0   user_id         206209 non-null  int64 \n",
      " 1   first_name      206209 non-null  object\n",
      " 2   last_name       206209 non-null  object\n",
      " 3   gender          206209 non-null  object\n",
      " 4   state           206209 non-null  object\n",
      " 5   age             206209 non-null  int64 \n",
      " 6   date_joined     206209 non-null  object\n",
      " 7   dependants      206209 non-null  int64 \n",
      " 8   marital_status  206209 non-null  object\n",
      " 9   income          206209 non-null  int64 \n",
      "dtypes: int64(4), object(6)\n",
      "memory usage: 15.7+ MB\n"
     ]
    }
   ],
   "source": [
    "# Step 6\n",
    "df_customers.info()"
   ]
  },
  {
   "cell_type": "code",
   "execution_count": 32,
   "id": "5816be3b",
   "metadata": {},
   "outputs": [
    {
     "name": "stdout",
     "output_type": "stream",
     "text": [
      "<class 'pandas.core.frame.DataFrame'>\n",
      "Int64Index: 32404859 entries, 0 to 32404858\n",
      "Data columns (total 27 columns):\n",
      " #   Column                 Dtype   \n",
      "---  ------                 -----   \n",
      " 0   order_id               int64   \n",
      " 1   user_id                int64   \n",
      " 2   eval_set               object  \n",
      " 3   order_number           int64   \n",
      " 4   orders_day_of_week     int64   \n",
      " 5   order_hour_of_day      int64   \n",
      " 6   days_since_last_order  float64 \n",
      " 7   product_id             int64   \n",
      " 8   add_to_cart_order      int64   \n",
      " 9   reordered              int64   \n",
      " 10  Unnamed: 0_y           int64   \n",
      " 11  product_name           object  \n",
      " 12  aisle_id               int64   \n",
      " 13  department_id          int64   \n",
      " 14  prices                 float64 \n",
      " 15  _merge                 category\n",
      " 16   price_range_loc       object  \n",
      " 17  price_range_loc        object  \n",
      " 18  busiest_day            object  \n",
      " 19  busiest_days           object  \n",
      " 20  busiest_period_of_day  object  \n",
      " 21  max_order              int64   \n",
      " 22  loyalty_flag           object  \n",
      " 23  mean_price             float64 \n",
      " 24  spending_flag          object  \n",
      " 25  median_days            float64 \n",
      " 26  frequency_flag         object  \n",
      "dtypes: category(1), float64(4), int64(12), object(10)\n",
      "memory usage: 6.5+ GB\n"
     ]
    }
   ],
   "source": [
    "df_ords_prods_merged.info()"
   ]
  },
  {
   "cell_type": "code",
   "execution_count": 33,
   "id": "556f3619",
   "metadata": {},
   "outputs": [],
   "source": [
    "df_ords_prods_merged = df_ords_prods_merged.drop(columns = ['_merge', 'Unnamed: 0_y','eval_set',' price_range_loc'])"
   ]
  },
  {
   "cell_type": "code",
   "execution_count": 35,
   "id": "d323edcb",
   "metadata": {},
   "outputs": [
    {
     "name": "stdout",
     "output_type": "stream",
     "text": [
      "<class 'pandas.core.frame.DataFrame'>\n",
      "Int64Index: 32404859 entries, 0 to 32404858\n",
      "Data columns (total 23 columns):\n",
      " #   Column                 Dtype  \n",
      "---  ------                 -----  \n",
      " 0   order_id               int64  \n",
      " 1   user_id                int64  \n",
      " 2   order_number           int64  \n",
      " 3   orders_day_of_week     int64  \n",
      " 4   order_hour_of_day      int64  \n",
      " 5   days_since_last_order  float64\n",
      " 6   product_id             int64  \n",
      " 7   add_to_cart_order      int64  \n",
      " 8   reordered              int64  \n",
      " 9   product_name           object \n",
      " 10  aisle_id               int64  \n",
      " 11  department_id          int64  \n",
      " 12  prices                 float64\n",
      " 13  price_range_loc        object \n",
      " 14  busiest_day            object \n",
      " 15  busiest_days           object \n",
      " 16  busiest_period_of_day  object \n",
      " 17  max_order              int64  \n",
      " 18  loyalty_flag           object \n",
      " 19  mean_price             float64\n",
      " 20  spending_flag          object \n",
      " 21  median_days            float64\n",
      " 22  frequency_flag         object \n",
      "dtypes: float64(4), int64(11), object(8)\n",
      "memory usage: 5.8+ GB\n"
     ]
    }
   ],
   "source": [
    "df_ords_prods_merged.info()"
   ]
  },
  {
   "cell_type": "markdown",
   "id": "88aff7ad",
   "metadata": {},
   "source": [
    "A memory error occurred when initially combining the data. Therefore, I looked for columns that could be removed. This decreased the memory usage from 6.5 to 5.8 and the merge was successful (as shown below)."
   ]
  },
  {
   "cell_type": "code",
   "execution_count": 34,
   "id": "db376f64",
   "metadata": {
    "scrolled": false
   },
   "outputs": [],
   "source": [
    "df_combined = df_ords_prods_merged.merge(df_customers, on = 'user_id')"
   ]
  },
  {
   "cell_type": "code",
   "execution_count": 37,
   "id": "c9117a77",
   "metadata": {},
   "outputs": [
    {
     "data": {
      "text/html": [
       "<div>\n",
       "<style scoped>\n",
       "    .dataframe tbody tr th:only-of-type {\n",
       "        vertical-align: middle;\n",
       "    }\n",
       "\n",
       "    .dataframe tbody tr th {\n",
       "        vertical-align: top;\n",
       "    }\n",
       "\n",
       "    .dataframe thead th {\n",
       "        text-align: right;\n",
       "    }\n",
       "</style>\n",
       "<table border=\"1\" class=\"dataframe\">\n",
       "  <thead>\n",
       "    <tr style=\"text-align: right;\">\n",
       "      <th></th>\n",
       "      <th>order_id</th>\n",
       "      <th>user_id</th>\n",
       "      <th>order_number</th>\n",
       "      <th>orders_day_of_week</th>\n",
       "      <th>order_hour_of_day</th>\n",
       "      <th>days_since_last_order</th>\n",
       "      <th>product_id</th>\n",
       "      <th>add_to_cart_order</th>\n",
       "      <th>reordered</th>\n",
       "      <th>product_name</th>\n",
       "      <th>...</th>\n",
       "      <th>frequency_flag</th>\n",
       "      <th>first_name</th>\n",
       "      <th>last_name</th>\n",
       "      <th>gender</th>\n",
       "      <th>state</th>\n",
       "      <th>age</th>\n",
       "      <th>date_joined</th>\n",
       "      <th>dependants</th>\n",
       "      <th>marital_status</th>\n",
       "      <th>income</th>\n",
       "    </tr>\n",
       "  </thead>\n",
       "  <tbody>\n",
       "    <tr>\n",
       "      <th>0</th>\n",
       "      <td>2539329</td>\n",
       "      <td>1</td>\n",
       "      <td>1</td>\n",
       "      <td>2</td>\n",
       "      <td>8</td>\n",
       "      <td>NaN</td>\n",
       "      <td>196</td>\n",
       "      <td>1</td>\n",
       "      <td>0</td>\n",
       "      <td>Soda</td>\n",
       "      <td>...</td>\n",
       "      <td>Non-frequent customer</td>\n",
       "      <td>Linda</td>\n",
       "      <td>Nguyen</td>\n",
       "      <td>Female</td>\n",
       "      <td>Alabama</td>\n",
       "      <td>31</td>\n",
       "      <td>2/17/2019</td>\n",
       "      <td>3</td>\n",
       "      <td>married</td>\n",
       "      <td>40423</td>\n",
       "    </tr>\n",
       "    <tr>\n",
       "      <th>1</th>\n",
       "      <td>2398795</td>\n",
       "      <td>1</td>\n",
       "      <td>2</td>\n",
       "      <td>3</td>\n",
       "      <td>7</td>\n",
       "      <td>15.0</td>\n",
       "      <td>196</td>\n",
       "      <td>1</td>\n",
       "      <td>1</td>\n",
       "      <td>Soda</td>\n",
       "      <td>...</td>\n",
       "      <td>Non-frequent customer</td>\n",
       "      <td>Linda</td>\n",
       "      <td>Nguyen</td>\n",
       "      <td>Female</td>\n",
       "      <td>Alabama</td>\n",
       "      <td>31</td>\n",
       "      <td>2/17/2019</td>\n",
       "      <td>3</td>\n",
       "      <td>married</td>\n",
       "      <td>40423</td>\n",
       "    </tr>\n",
       "    <tr>\n",
       "      <th>2</th>\n",
       "      <td>473747</td>\n",
       "      <td>1</td>\n",
       "      <td>3</td>\n",
       "      <td>3</td>\n",
       "      <td>12</td>\n",
       "      <td>21.0</td>\n",
       "      <td>196</td>\n",
       "      <td>1</td>\n",
       "      <td>1</td>\n",
       "      <td>Soda</td>\n",
       "      <td>...</td>\n",
       "      <td>Non-frequent customer</td>\n",
       "      <td>Linda</td>\n",
       "      <td>Nguyen</td>\n",
       "      <td>Female</td>\n",
       "      <td>Alabama</td>\n",
       "      <td>31</td>\n",
       "      <td>2/17/2019</td>\n",
       "      <td>3</td>\n",
       "      <td>married</td>\n",
       "      <td>40423</td>\n",
       "    </tr>\n",
       "    <tr>\n",
       "      <th>3</th>\n",
       "      <td>2254736</td>\n",
       "      <td>1</td>\n",
       "      <td>4</td>\n",
       "      <td>4</td>\n",
       "      <td>7</td>\n",
       "      <td>29.0</td>\n",
       "      <td>196</td>\n",
       "      <td>1</td>\n",
       "      <td>1</td>\n",
       "      <td>Soda</td>\n",
       "      <td>...</td>\n",
       "      <td>Non-frequent customer</td>\n",
       "      <td>Linda</td>\n",
       "      <td>Nguyen</td>\n",
       "      <td>Female</td>\n",
       "      <td>Alabama</td>\n",
       "      <td>31</td>\n",
       "      <td>2/17/2019</td>\n",
       "      <td>3</td>\n",
       "      <td>married</td>\n",
       "      <td>40423</td>\n",
       "    </tr>\n",
       "    <tr>\n",
       "      <th>4</th>\n",
       "      <td>431534</td>\n",
       "      <td>1</td>\n",
       "      <td>5</td>\n",
       "      <td>4</td>\n",
       "      <td>15</td>\n",
       "      <td>28.0</td>\n",
       "      <td>196</td>\n",
       "      <td>1</td>\n",
       "      <td>1</td>\n",
       "      <td>Soda</td>\n",
       "      <td>...</td>\n",
       "      <td>Non-frequent customer</td>\n",
       "      <td>Linda</td>\n",
       "      <td>Nguyen</td>\n",
       "      <td>Female</td>\n",
       "      <td>Alabama</td>\n",
       "      <td>31</td>\n",
       "      <td>2/17/2019</td>\n",
       "      <td>3</td>\n",
       "      <td>married</td>\n",
       "      <td>40423</td>\n",
       "    </tr>\n",
       "  </tbody>\n",
       "</table>\n",
       "<p>5 rows × 32 columns</p>\n",
       "</div>"
      ],
      "text/plain": [
       "   order_id  user_id  order_number  orders_day_of_week  order_hour_of_day  \\\n",
       "0   2539329        1             1                   2                  8   \n",
       "1   2398795        1             2                   3                  7   \n",
       "2    473747        1             3                   3                 12   \n",
       "3   2254736        1             4                   4                  7   \n",
       "4    431534        1             5                   4                 15   \n",
       "\n",
       "   days_since_last_order  product_id  add_to_cart_order  reordered  \\\n",
       "0                    NaN         196                  1          0   \n",
       "1                   15.0         196                  1          1   \n",
       "2                   21.0         196                  1          1   \n",
       "3                   29.0         196                  1          1   \n",
       "4                   28.0         196                  1          1   \n",
       "\n",
       "  product_name  ...         frequency_flag  first_name  last_name  gender  \\\n",
       "0         Soda  ...  Non-frequent customer       Linda     Nguyen  Female   \n",
       "1         Soda  ...  Non-frequent customer       Linda     Nguyen  Female   \n",
       "2         Soda  ...  Non-frequent customer       Linda     Nguyen  Female   \n",
       "3         Soda  ...  Non-frequent customer       Linda     Nguyen  Female   \n",
       "4         Soda  ...  Non-frequent customer       Linda     Nguyen  Female   \n",
       "\n",
       "     state age date_joined  dependants marital_status  income  \n",
       "0  Alabama  31   2/17/2019           3        married   40423  \n",
       "1  Alabama  31   2/17/2019           3        married   40423  \n",
       "2  Alabama  31   2/17/2019           3        married   40423  \n",
       "3  Alabama  31   2/17/2019           3        married   40423  \n",
       "4  Alabama  31   2/17/2019           3        married   40423  \n",
       "\n",
       "[5 rows x 32 columns]"
      ]
     },
     "execution_count": 37,
     "metadata": {},
     "output_type": "execute_result"
    }
   ],
   "source": [
    "df_combined.head()"
   ]
  },
  {
   "cell_type": "code",
   "execution_count": 38,
   "id": "fb231690",
   "metadata": {},
   "outputs": [
    {
     "data": {
      "text/plain": [
       "(32404859, 32)"
      ]
     },
     "execution_count": 38,
     "metadata": {},
     "output_type": "execute_result"
    }
   ],
   "source": [
    "df_combined.shape"
   ]
  },
  {
   "cell_type": "code",
   "execution_count": 39,
   "id": "bd9c266b",
   "metadata": {},
   "outputs": [],
   "source": [
    "# Export Data\n",
    "df_combined.to_pickle(os.path.join(path, '02 Data', 'Prepared Data', 'cust_ords_prods_merged.pkl'))"
   ]
  }
 ],
 "metadata": {
  "kernelspec": {
   "display_name": "Python 3 (ipykernel)",
   "language": "python",
   "name": "python3"
  },
  "language_info": {
   "codemirror_mode": {
    "name": "ipython",
    "version": 3
   },
   "file_extension": ".py",
   "mimetype": "text/x-python",
   "name": "python",
   "nbconvert_exporter": "python",
   "pygments_lexer": "ipython3",
   "version": "3.10.9"
  }
 },
 "nbformat": 4,
 "nbformat_minor": 5
}
